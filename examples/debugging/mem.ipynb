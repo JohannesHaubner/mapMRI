{
 "cells": [
  {
   "cell_type": "code",
   "execution_count": 1,
   "metadata": {},
   "outputs": [],
   "source": [
    "from read_mem import *\n",
    "import matplotlib.pyplot as plt\n",
    "import pathlib"
   ]
  },
  {
   "cell_type": "code",
   "execution_count": 3,
   "metadata": {},
   "outputs": [
    {
     "name": "stdout",
     "output_type": "stream",
     "text": [
      "E10A0.01LBFGS10C4Projector\n"
     ]
    },
    {
     "ename": "IndexError",
     "evalue": "too many indices for array: array is 1-dimensional, but 2 were indexed",
     "output_type": "error",
     "traceback": [
      "\u001b[0;31m---------------------------------------------------------------------------\u001b[0m",
      "\u001b[0;31mIndexError\u001b[0m                                Traceback (most recent call last)",
      "Cell \u001b[0;32mIn[3], line 35\u001b[0m\n\u001b[1;32m     33\u001b[0m outfoldername \u001b[39m=\u001b[39m outfoldername\u001b[39m.\u001b[39mreplace(\u001b[39m\"\u001b[39m\u001b[39m \u001b[39m\u001b[39m\"\u001b[39m, \u001b[39m\"\u001b[39m\u001b[39m\"\u001b[39m)\n\u001b[1;32m     34\u001b[0m \u001b[39mprint\u001b[39m(outfoldername)\n\u001b[0;32m---> 35\u001b[0m \u001b[39mprint\u001b[39m(mema[:, \u001b[39m0\u001b[39;49m])\n\u001b[1;32m     37\u001b[0m \u001b[39m# minm = min([np.min(mema[:, 1]), minm])\u001b[39;00m\n\u001b[1;32m     39\u001b[0m minm \u001b[39m=\u001b[39m \u001b[39mNone\u001b[39;00m\n",
      "\u001b[0;31mIndexError\u001b[0m: too many indices for array: array is 1-dimensional, but 2 were indexed"
     ]
    }
   ],
   "source": [
    "# filenames = [\"/home/bastian/D1/registration/mrislurm/436844_log_python_srun.txt\"]\n",
    "\n",
    "path = pathlib.Path(\"/home/bastian/D1/registration/cubeslurm/\")\n",
    "\n",
    "# slurmids = [437139, 437140]\n",
    "\n",
    "# slurmids += [437147, 437148]\n",
    "\n",
    "slurmids = [437150]\n",
    "\n",
    "slurmids += [437152, 437153]\n",
    "\n",
    "slurmids += [437156, 437157]\n",
    "\n",
    "\n",
    "path = pathlib.Path(\"/home/bastian/D1/registration/cubeslurm/\")\n",
    "slurmids = range(437160, 437164)\n",
    "\n",
    "filenames = [path / (str(slurmid) + \"_log_python_srun.txt\") for slurmid in slurmids]\n",
    "\n",
    "# filenames = [\"/home/bastian/D1/registration/mrislurm/436856_log_python_srun.txt\",\n",
    "# \"/home/bastian/D1/registration/mrislurm/436844_log_python_srun.txt\"\n",
    "# ]\n",
    "\n",
    "minm, maxm = 1e16, 0\n",
    "for filename in filenames:\n",
    "\n",
    "    \n",
    "\n",
    "    mema, outfoldername = read_memory(filename)\n",
    "\n",
    "    outfoldername = outfoldername.replace(\"\\n\", \"\")\n",
    "    outfoldername = outfoldername.replace(\" \", \"\")\n",
    "    print(outfoldername)\n",
    "    print(mema[:, 0])\n",
    "\n",
    "    # minm = min([np.min(mema[:, 1]), minm])\n",
    "\n",
    "    minm = None\n",
    "\n",
    "    plt.plot(mema[:,0], mema[:,1], label=outfoldername); plt.xlabel(\"lbfgs iteration\"); plt.ylabel(\"Memory (TB)\")\n",
    "\n",
    "plt.legend()\n",
    "plt.ylim(minm, None)\n",
    "plt.show()"
   ]
  },
  {
   "cell_type": "code",
   "execution_count": null,
   "metadata": {},
   "outputs": [],
   "source": []
  },
  {
   "cell_type": "code",
   "execution_count": null,
   "metadata": {},
   "outputs": [],
   "source": []
  },
  {
   "cell_type": "code",
   "execution_count": null,
   "metadata": {},
   "outputs": [],
   "source": []
  }
 ],
 "metadata": {
  "kernelspec": {
   "display_name": "mri_inverse",
   "language": "python",
   "name": "python3"
  },
  "language_info": {
   "codemirror_mode": {
    "name": "ipython",
    "version": 3
   },
   "file_extension": ".py",
   "mimetype": "text/x-python",
   "name": "python",
   "nbconvert_exporter": "python",
   "pygments_lexer": "ipython3",
   "version": "3.9.10"
  },
  "orig_nbformat": 4,
  "vscode": {
   "interpreter": {
    "hash": "618d848a30200ea06f61785d693c775919435ee2e35ddd73c5029693867fb516"
   }
  }
 },
 "nbformat": 4,
 "nbformat_minor": 2
}
