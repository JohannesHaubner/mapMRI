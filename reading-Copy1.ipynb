{
 "cells": [
  {
   "cell_type": "code",
   "execution_count": 1,
   "id": "3c52c929",
   "metadata": {},
   "outputs": [],
   "source": [
    "from PIL import Image\n",
    "import nibabel\n",
    "import os, pathlib, numpy, json\n",
    "import h5py\n",
    "from fenics import *\n",
    "from fenics_adjoint import *"
   ]
  },
  {
   "cell_type": "code",
   "execution_count": 2,
   "id": "c8bcae14",
   "metadata": {},
   "outputs": [],
   "source": [
    "datadir = pathlib.Path(\"/home/bastian/Oscar-Image-Registration-via-Transport-Equation/testdata_2d\")"
   ]
  },
  {
   "cell_type": "code",
   "execution_count": 3,
   "id": "64b16350",
   "metadata": {},
   "outputs": [],
   "source": [
    "hyperparameters = {}\n",
    "hyperparameters[\"state_functiondegree\"] = 1\n",
    "hyperparameters[\"state_functionspace\"] = \"DG\""
   ]
  },
  {
   "cell_type": "code",
   "execution_count": 4,
   "id": "31ea63f7",
   "metadata": {},
   "outputs": [],
   "source": [
    "hyperparameters[\"normalize\"] = True"
   ]
  },
  {
   "cell_type": "code",
   "execution_count": 5,
   "id": "19c2793e",
   "metadata": {},
   "outputs": [],
   "source": [
    "hyperparameters[\"image\"] = str(datadir / \"input.mgz\")"
   ]
  },
  {
   "cell_type": "code",
   "execution_count": 6,
   "id": "fd3e79b3",
   "metadata": {},
   "outputs": [],
   "source": [
    "def read_image(hyperparameters, name, mesh=None, printout=True, normalize=True, degree=0):\n",
    "    \n",
    "    if hyperparameters[name].endswith(\".mgz\"):\n",
    "        image2 = nibabel.load(hyperparameters[name])\n",
    "        data = image2.get_fdata()\n",
    "    elif hyperparameters[name].endswith(\".png\"):\n",
    "        img = Image.open(hyperparameters[name])\n",
    "        img = img.convert(\"L\")\n",
    "        data = np.array(img)\n",
    "        data = np.expand_dims(data, -1)\n",
    "\n",
    "    \n",
    "    if printout:\n",
    "        print(\"dimension of image:\", data.shape, \"(\", data.size, \"voxels)\")\n",
    "\n",
    "\n",
    "    # data = np.swapaxes(data, 1, 0)\n",
    "\n",
    "    nx = data.shape[0] \n",
    "    ny = data.shape[1]\n",
    "    nz = data.shape[2]\n",
    "    hyperparameters[name + \".shape\"] = list(data.shape)\n",
    "\n",
    "    if mesh is None:\n",
    "        if nz == 1:\n",
    "            mesh = UnitSquareMesh(MPI.comm_world, nx, ny)\n",
    "        else:\n",
    "            mesh = UnitCubeMesh(MPI.comm_world, nx, ny, nz)\n",
    "\n",
    "    space = FunctionSpace(mesh, hyperparameters[\"state_functionspace\"], \n",
    "                         degree,\n",
    "                          #hyperparameters[\"state_functiondegree\"]\n",
    "                         )\n",
    "    u_data = Function(space)\n",
    "\n",
    "    xyz = space.tabulate_dof_coordinates().transpose()\n",
    "\n",
    "    xyz[0, :] *= (nx - 1)\n",
    "    xyz[1, :] *= (ny - 1)\n",
    "    \n",
    "    if nz > 1:\n",
    "        xyz[2, :] *= (nz - 1)\n",
    "\n",
    "    else:\n",
    "        xyz2 = np.zeros((3, xyz.shape[1]))\n",
    "        xyz2[0, :] = xyz[0, :]\n",
    "        xyz2[1, :] = xyz[1, :]\n",
    "        xyz = xyz2\n",
    "        del xyz2\n",
    "\n",
    "    i, j, k = np.rint(xyz).astype(\"int\")\n",
    "    u_data.vector()[:] = data[i, j, k]\n",
    "\n",
    "    if normalize:\n",
    "        if printout:\n",
    "            print(\"Normalizing image\")\n",
    "            print(\"Img.vector()[:].max()\", u_data.vector()[:].max())\n",
    "\n",
    "        u_data.vector()[:] *= 1 / u_data.vector()[:].max()\n",
    "\n",
    "        if printout:\n",
    "            print(\"Applying ReLU() to image\")\n",
    "        \n",
    "        u_data.vector()[:] = np.where(u_data.vector()[:] < 0, 0, u_data.vector()[:])\n",
    "    \n",
    "    space = FunctionSpace(mesh, hyperparameters[\"state_functionspace\"], hyperparameters[\"state_functiondegree\"])\n",
    "        \n",
    "    u_data = project(u_data, space)\n",
    "    return mesh, u_data, 1"
   ]
  },
  {
   "cell_type": "code",
   "execution_count": 7,
   "id": "6683d9c2",
   "metadata": {},
   "outputs": [],
   "source": [
    "def Pic2FEM(FName, mesh=None, degree=0, color=False, normalize=True):\n",
    "    if FName.endswith(\"mgz\"):\n",
    "        import nibabel\n",
    "        myarray=nibabel.load(FName).get_fdata()[:,:, 0]\n",
    "        myarray = myarray / np.max(myarray)\n",
    "        img = Image.fromarray(np.uint8(myarray*255))\n",
    "        img = img.convert(\"RGB\")\n",
    "    else:\n",
    "        img = Image.open(FName)\n",
    "    xPixel = np.shape(img)[0]\n",
    "    yPixel = np.shape(img)[1]\n",
    "    \n",
    "    #which of the color channels to process\n",
    "    if color:\n",
    "        Channels = (0,1,2)\n",
    "        img.convert(\"RGB\")\n",
    "    else:\n",
    "        Channels = (0,)\n",
    "        img.convert(\"L\")        \n",
    "    \n",
    "    if mesh == None:\n",
    "        mesh = RectangleMesh(MPI.comm_world, Point(0.0, 0.0), Point(img.size[0], img.size[1]), int(img.size[0]), int(img.size[1]), \"right\")\n",
    "    \n",
    "    #Key mapping between global vertex index (input) and (i,j) pixel coordinate (output)\n",
    "    #needs to be changed if the diagonal is not \"right\"\n",
    "    PixID = np.zeros([2*img.size[0]*img.size[1], 2], dtype=\"uint\")\n",
    "    for i in range(img.size[0]):\n",
    "        for j in range(img.size[1]):\n",
    "            #print \"init:\", i, j\n",
    "            PixID[2*(img.size[0]*j + i)+0, 0] = img.size[1] - 1 - j\n",
    "            PixID[2*(img.size[0]*j + i)+1, 0] = img.size[1] - 1 - j\n",
    "            PixID[2*(img.size[0]*j + i)+0, 1] = i\n",
    "            PixID[2*(img.size[0]*j + i)+1, 1] = i\n",
    "    \n",
    "    if color:\n",
    "        ImgSpace = VectorFunctionSpace(mesh, \"DG\", degree, len(Channels))\n",
    "    else:\n",
    "        ImgSpace = FunctionSpace(mesh, \"DG\", degree)\n",
    "        \n",
    "    ImgFunction = Function(ImgSpace)\n",
    "    ImgFunction.rename(\"image\", \"\")\n",
    "    Fvalues = np.zeros(ImgFunction.vector().local_size())\n",
    "        \n",
    "    for chan in Channels:\n",
    "        if color:\n",
    "            ImgDofs = ImgSpace.sub(chan).dofmap()\n",
    "            cData = np.array(img.getchannel(chan))\n",
    "        else:\n",
    "            ImgDofs = ImgSpace.dofmap() #tabulate_dof_coordinates()\n",
    "            cData = np.array(img.getchannel(chan))\n",
    "        \n",
    "        for c in cells(mesh):\n",
    "            #local and global index of cell\n",
    "            LID = c.index()\n",
    "            GID = c.global_index()\n",
    "            #local dof in DG0 function\n",
    "            FID = ImgDofs.cell_dofs(c.index())[0]\n",
    "            #get grey value from image\n",
    "            MyGrey = cData[PixID[GID, 0], PixID[GID, 1]]\n",
    "            #map 0..255 grey steps to [0,1]\n",
    "            normval = 1\n",
    "            if normalize:\n",
    "                normval = 255.0\n",
    "            fValue = MyGrey/(normval)\n",
    "            Fvalues[FID] = fValue\n",
    "\n",
    "    #Set function values\n",
    "    ImgFunction.vector().set_local(Fvalues)\n",
    "    ImgFunction.vector().apply(\"\")\n",
    "\n",
    "    return mesh, ImgFunction, len(Channels)"
   ]
  },
  {
   "cell_type": "code",
   "execution_count": 8,
   "id": "6cb63b38",
   "metadata": {},
   "outputs": [],
   "source": [
    "FName2 = str(hyperparameters[\"image\"])\n",
    "\n",
    "rawF = nibabel.load(FName2).get_fdata()\n",
    "\n",
    "if hyperparameters[\"normalize\"]:\n",
    "    rawF /= np.max(rawF)\n",
    "\n",
    "    rawF = np.where(rawF < 0, 0, rawF)"
   ]
  },
  {
   "cell_type": "code",
   "execution_count": 9,
   "id": "77a47e8a",
   "metadata": {},
   "outputs": [
    {
     "name": "stdout",
     "output_type": "stream",
     "text": [
      "dimension of image: (16, 22, 1) ( 352 voxels)\n",
      "Normalizing image\n",
      "Img.vector()[:].max() 0.9367520809173584\n",
      "Applying ReLU() to image\n",
      "dimension of image: (16, 22, 1) ( 352 voxels)\n",
      "Normalizing image\n",
      "Img.vector()[:].max() 0.9367520809173584\n",
      "Applying ReLU() to image\n",
      "Calling FFC just-in-time (JIT) compiler, this may take some time.\n"
     ]
    }
   ],
   "source": [
    "mymesh, my_img, channels = read_image(hyperparameters, name=\"image\", mesh=None, printout=True, normalize=hyperparameters[\"normalize\"])\n",
    "mymesh1, my_img1, channels1 = read_image(hyperparameters, name=\"image\", mesh=None, printout=True, normalize=hyperparameters[\"normalize\"], degree=1)"
   ]
  },
  {
   "cell_type": "code",
   "execution_count": 10,
   "id": "201d54b4",
   "metadata": {},
   "outputs": [],
   "source": [
    "fenmesh, fen_img1, fenchannels = Pic2FEM(FName=hyperparameters[\"image\"], \n",
    "                                         color=False, normalize=hyperparameters[\"normalize\"],\n",
    "                                         mesh=None, degree=0)#hyperparameters[\"state_functiondegree\"])"
   ]
  },
  {
   "cell_type": "code",
   "execution_count": 11,
   "id": "5b1bed35",
   "metadata": {},
   "outputs": [],
   "source": [
    "Space = FunctionSpace(fenmesh, hyperparameters[\"state_functionspace\"], hyperparameters[\"state_functiondegree\"])\n",
    "# fen_img = project(sqrt(inner(fen_img1, fen_img1)), Space)\n",
    "fen_img = project(fen_img1, Space)"
   ]
  },
  {
   "cell_type": "code",
   "execution_count": 12,
   "id": "6e74cc8c",
   "metadata": {},
   "outputs": [],
   "source": [
    "if hyperparameters[\"normalize\"]:\n",
    "    pass\n",
    "    #fen_img.vector()[:] /= fen_img.vector()[:].max()\n",
    "    #fen_img.vector()[:] = np.where(fen_img.vector()[:] < 0, 0, fen_img.vector()[:])"
   ]
  },
  {
   "cell_type": "code",
   "execution_count": 13,
   "id": "c55ca9e6",
   "metadata": {},
   "outputs": [
    {
     "data": {
      "text/plain": [
       "0"
      ]
     },
     "execution_count": 13,
     "metadata": {},
     "output_type": "execute_result"
    }
   ],
   "source": [
    "np.sum(np.isnan(fen_img.vector()[:]))"
   ]
  },
  {
   "cell_type": "code",
   "execution_count": 14,
   "id": "e6eef641",
   "metadata": {},
   "outputs": [
    {
     "name": "stdout",
     "output_type": "stream",
     "text": [
      "0.0 1.0000000000000013\n",
      "0.0 1.000000000000001\n"
     ]
    }
   ],
   "source": [
    "print(fen_img.vector()[:].min(), fen_img.vector()[:].max())\n",
    "print(my_img.vector()[:].min(), my_img.vector()[:].max())"
   ]
  },
  {
   "cell_type": "code",
   "execution_count": 15,
   "id": "7798b5b3",
   "metadata": {},
   "outputs": [
    {
     "name": "stdout",
     "output_type": "stream",
     "text": [
      "0.09704711909028453\n",
      "0.0963903743315508\n",
      "0.09639037433155086\n",
      "0.09718642814074238\n",
      "0.1347476097712265\n"
     ]
    }
   ],
   "source": [
    "print(np.mean(rawF))\n",
    "\n",
    "print(assemble(fen_img1*dx(domain=fenmesh)) / assemble(1*dx(domain=fenmesh)))\n",
    "print(assemble(fen_img*dx(domain=fenmesh)) / assemble(1*dx(domain=fenmesh)))\n",
    "print(assemble(my_img*dx(domain=mymesh)) / assemble(1*dx(domain=mymesh)))\n",
    "print(assemble(my_img1*dx(domain=mymesh1)) / assemble(1*dx(domain=mymesh1)))"
   ]
  },
  {
   "cell_type": "code",
   "execution_count": 29,
   "id": "a8adb28a",
   "metadata": {},
   "outputs": [
    {
     "name": "stdout",
     "output_type": "stream",
     "text": [
      "0.03592449675768093\n",
      "Calling FFC just-in-time (JIT) compiler, this may take some time.\n",
      "1.7014167852380524e-14\n"
     ]
    }
   ],
   "source": [
    "print(assemble((my_img1-my_img)*dx(domain=mymesh1)))\n",
    "print(assemble((fen_img-fen_img1)*dx(domain=fenmesh)))"
   ]
  },
  {
   "cell_type": "code",
   "execution_count": 16,
   "id": "fd062ec2",
   "metadata": {},
   "outputs": [
    {
     "name": "stdout",
     "output_type": "stream",
     "text": [
      "704 391\n",
      "704 391\n"
     ]
    }
   ],
   "source": [
    "print(fenmesh.num_cells(), fenmesh.num_vertices())\n",
    "print(mymesh.num_cells(), mymesh.num_vertices())"
   ]
  },
  {
   "cell_type": "code",
   "execution_count": 17,
   "id": "5961b308",
   "metadata": {},
   "outputs": [
    {
     "name": "stdout",
     "output_type": "stream",
     "text": [
      "FunctionSpace(Mesh(VectorElement(FiniteElement('Lagrange', triangle, 1), dim=2), 58), FiniteElement('Discontinuous Lagrange', triangle, 0))\n",
      "FunctionSpace(Mesh(VectorElement(FiniteElement('Lagrange', triangle, 1), dim=2), 58), FiniteElement('Discontinuous Lagrange', triangle, 1))\n",
      "FunctionSpace(Mesh(VectorElement(FiniteElement('Lagrange', triangle, 1), dim=2), 0), FiniteElement('Discontinuous Lagrange', triangle, 1))\n"
     ]
    }
   ],
   "source": [
    "print(fen_img1.function_space())\n",
    "print(fen_img.function_space())\n",
    "print(my_img.function_space())"
   ]
  },
  {
   "cell_type": "code",
   "execution_count": 18,
   "id": "82339aaf",
   "metadata": {},
   "outputs": [
    {
     "name": "stdout",
     "output_type": "stream",
     "text": [
      "(704, 2)\n",
      "(2112, 2)\n",
      "(2112, 2)\n"
     ]
    }
   ],
   "source": [
    "print(fen_img1.function_space().tabulate_dof_coordinates().shape)\n",
    "print(fen_img.function_space().tabulate_dof_coordinates().shape)\n",
    "print(my_img.function_space().tabulate_dof_coordinates().shape)"
   ]
  },
  {
   "cell_type": "code",
   "execution_count": 19,
   "id": "d2885360",
   "metadata": {},
   "outputs": [
    {
     "name": "stdout",
     "output_type": "stream",
     "text": [
      "(2112,)\n",
      "(2112,)\n"
     ]
    }
   ],
   "source": [
    "print(fen_img.vector()[:].shape)\n",
    "print(my_img.vector()[:].shape)"
   ]
  },
  {
   "cell_type": "code",
   "execution_count": 20,
   "id": "aeeee816",
   "metadata": {},
   "outputs": [
    {
     "data": {
      "text/plain": [
       "1.0"
      ]
     },
     "execution_count": 20,
     "metadata": {},
     "output_type": "execute_result"
    }
   ],
   "source": [
    "my_img.function_space().tabulate_dof_coordinates().max()#.transpose().shape"
   ]
  },
  {
   "cell_type": "code",
   "execution_count": 21,
   "id": "3c16988c",
   "metadata": {},
   "outputs": [
    {
     "data": {
      "text/plain": [
       "(16, 22, 1)"
      ]
     },
     "execution_count": 21,
     "metadata": {},
     "output_type": "execute_result"
    }
   ],
   "source": [
    "rawF.shape"
   ]
  },
  {
   "cell_type": "code",
   "execution_count": 22,
   "id": "4ae0e168",
   "metadata": {},
   "outputs": [
    {
     "data": {
      "text/plain": [
       "<matplotlib.image.AxesImage at 0x1555316552e0>"
      ]
     },
     "execution_count": 22,
     "metadata": {},
     "output_type": "execute_result"
    },
    {
     "data": {
      "image/png": "[encoded data removed]",
      "text/plain": [
       "<Figure size 640x480 with 1 Axes>"
      ]
     },
     "metadata": {},
     "output_type": "display_data"
    }
   ],
   "source": [
    "plt.imshow(rawF)"
   ]
  },
  {
   "cell_type": "code",
   "execution_count": 23,
   "id": "09e937b5",
   "metadata": {},
   "outputs": [
    {
     "data": {
      "image/png": "[encoded data removed]",
      "text/plain": [
       "<Figure size 640x480 with 2 Axes>"
      ]
     },
     "metadata": {},
     "output_type": "display_data"
    },
    {
     "data": {
      "image/png": "[encoded data removed]",
      "text/plain": [
       "<Figure size 640x480 with 2 Axes>"
      ]
     },
     "metadata": {},
     "output_type": "display_data"
    }
   ],
   "source": [
    "ax = plot(my_img)\n",
    "plt.colorbar(ax)\n",
    "plt.show()\n",
    "\n",
    "ax = plot(fen_img)\n",
    "plt.colorbar(ax)\n",
    "plt.show()"
   ]
  },
  {
   "cell_type": "code",
   "execution_count": null,
   "id": "eb872586",
   "metadata": {},
   "outputs": [],
   "source": []
  },
  {
   "cell_type": "code",
   "execution_count": null,
   "id": "7590ed21",
   "metadata": {},
   "outputs": [],
   "source": []
  },
  {
   "cell_type": "code",
   "execution_count": null,
   "id": "dd7b2a55",
   "metadata": {},
   "outputs": [],
   "source": []
  }
 ],
 "metadata": {
  "kernelspec": {
   "display_name": "Python 3 (ipykernel)",
   "language": "python",
   "name": "python3"
  },
  "language_info": {
   "codemirror_mode": {
    "name": "ipython",
    "version": 3
   },
   "file_extension": ".py",
   "mimetype": "text/x-python",
   "name": "python",
   "nbconvert_exporter": "python",
   "pygments_lexer": "ipython3",
   "version": "3.9.10"
  }
 },
 "nbformat": 4,
 "nbformat_minor": 5
}
