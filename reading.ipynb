{
 "cells": [
  {
   "cell_type": "code",
   "execution_count": 1,
   "id": "a3d554e5",
   "metadata": {},
   "outputs": [],
   "source": [
    "from PIL import Image\n",
    "import nibabel\n",
    "import os, pathlib, numpy, json\n",
    "import h5py\n",
    "from fenics import *\n",
    "from fenics_adjoint import *"
   ]
  },
  {
   "cell_type": "code",
   "execution_count": 2,
   "id": "ed96528f",
   "metadata": {},
   "outputs": [],
   "source": [
    "datadir = pathlib.Path(\"/home/bastian/Oscar-Image-Registration-via-Transport-Equation/testdata_3d\")"
   ]
  },
  {
   "cell_type": "code",
   "execution_count": 3,
   "id": "6dbc3c67",
   "metadata": {},
   "outputs": [],
   "source": [
    "datadir = pathlib.Path(\"/home/bastian/Oscar-Image-Registration-via-Transport-Equation/testdata_2d\")"
   ]
  },
  {
   "cell_type": "code",
   "execution_count": 4,
   "id": "e15ec61a",
   "metadata": {},
   "outputs": [],
   "source": [
    "hyperparameters = {}\n",
    "hyperparameters[\"state_functiondegree\"] = 1\n",
    "hyperparameters[\"state_functionspace\"] = \"DG\""
   ]
  },
  {
   "cell_type": "code",
   "execution_count": 5,
   "id": "c75e16eb",
   "metadata": {},
   "outputs": [],
   "source": [
    "hyperparameters[\"normalize\"] = True"
   ]
  },
  {
   "cell_type": "code",
   "execution_count": 6,
   "id": "f96bc7ae",
   "metadata": {},
   "outputs": [],
   "source": [
    "hyperparameters[\"image\"] = str(datadir / \"input.mgz\")"
   ]
  },
  {
   "cell_type": "code",
   "execution_count": 7,
   "id": "5f653b6b",
   "metadata": {},
   "outputs": [],
   "source": [
    "from mri_utils.MRI2FEM import read_image"
   ]
  },
  {
   "cell_type": "code",
   "execution_count": 8,
   "id": "a10b69ad",
   "metadata": {},
   "outputs": [],
   "source": [
    "def Pic2FEM(FName, mesh=None, color=False, normalize=True):\n",
    "    if FName.endswith(\"mgz\"):\n",
    "        import nibabel\n",
    "        myarray=nibabel.load(FName).get_fdata()[:,:, 0]\n",
    "        myarray = myarray / np.max(myarray)\n",
    "        img = Image.fromarray(np.uint8(myarray*255))\n",
    "        img = img.convert(\"RGB\")\n",
    "    else:\n",
    "        img = Image.open(FName)\n",
    "    xPixel = np.shape(img)[0]\n",
    "    yPixel = np.shape(img)[1]\n",
    "    \n",
    "    #which of the color channels to process\n",
    "    if color:\n",
    "        Channels = (0,1,2)\n",
    "        img.convert(\"RGB\")\n",
    "    else:\n",
    "        Channels = (0,)\n",
    "        img.convert(\"L\")        \n",
    "    \n",
    "    if mesh == None:\n",
    "        mesh = RectangleMesh(MPI.comm_world, Point(0.0, 0.0), Point(img.size[0], img.size[1]), int(img.size[0]), int(img.size[1]), \"right\")\n",
    "    \n",
    "    #Key mapping between global vertex index (input) and (i,j) pixel coordinate (output)\n",
    "    #needs to be changed if the diagonal is not \"right\"\n",
    "    PixID = np.zeros([2*img.size[0]*img.size[1], 2], dtype=\"uint\")\n",
    "    for i in range(img.size[0]):\n",
    "        for j in range(img.size[1]):\n",
    "            #print \"init:\", i, j\n",
    "            PixID[2*(img.size[0]*j + i)+0, 0] = img.size[1] - 1 - j\n",
    "            PixID[2*(img.size[0]*j + i)+1, 0] = img.size[1] - 1 - j\n",
    "            PixID[2*(img.size[0]*j + i)+0, 1] = i\n",
    "            PixID[2*(img.size[0]*j + i)+1, 1] = i\n",
    "    \n",
    "    if color:\n",
    "        ImgSpace = VectorFunctionSpace(mesh, \"DG\", 0, len(Channels))\n",
    "    else:\n",
    "        ImgSpace = FunctionSpace(mesh, \"DG\", 0)\n",
    "        \n",
    "    ImgFunction = Function(ImgSpace)\n",
    "    ImgFunction.rename(\"image\", \"\")\n",
    "    Fvalues = np.zeros(ImgFunction.vector().local_size())\n",
    "        \n",
    "    for chan in Channels:\n",
    "        if color:\n",
    "            ImgDofs = ImgSpace.sub(chan).dofmap()\n",
    "            cData = np.array(img.getchannel(chan))\n",
    "        else:\n",
    "            ImgDofs = ImgSpace.dofmap() #tabulate_dof_coordinates()\n",
    "            cData = np.array(img.getchannel(chan))\n",
    "        \n",
    "        for c in cells(mesh):\n",
    "            #local and global index of cell\n",
    "            LID = c.index()\n",
    "            GID = c.global_index()\n",
    "            #local dof in DG0 function\n",
    "            FID = ImgDofs.cell_dofs(c.index())[0]\n",
    "            #get grey value from image\n",
    "            MyGrey = cData[PixID[GID, 0], PixID[GID, 1]]\n",
    "            #map 0..255 grey steps to [0,1]\n",
    "            normval = 1\n",
    "            if normalize:\n",
    "                normval = 255.0\n",
    "            fValue = MyGrey/(normval)\n",
    "            Fvalues[FID] = fValue\n",
    "\n",
    "    #Set function values\n",
    "    ImgFunction.vector().set_local(Fvalues)\n",
    "    ImgFunction.vector().apply(\"\")\n",
    "\n",
    "\n",
    "    Space = FunctionSpace(mesh, hyperparameters[\"state_functionspace\"], hyperparameters[\"state_functiondegree\"])\n",
    "    ImgFunction = project(sqrt(inner(ImgFunction, ImgFunction)), Space)\n",
    "        \n",
    "    return mesh, ImgFunction, len(Channels)"
   ]
  },
  {
   "cell_type": "code",
   "execution_count": 9,
   "id": "cfc4ab1a",
   "metadata": {},
   "outputs": [],
   "source": [
    "FName2 = str(hyperparameters[\"image\"])\n",
    "\n",
    "rawF = nibabel.load(FName2).get_fdata()\n",
    "\n",
    "if hyperparameters[\"normalize\"]:\n",
    "    rawF /= np.max(rawF)\n",
    "\n",
    "    rawF = np.where(rawF < 0, 0, rawF)"
   ]
  },
  {
   "cell_type": "code",
   "execution_count": 42,
   "id": "fc3f0bd6",
   "metadata": {},
   "outputs": [
    {
     "name": "stdout",
     "output_type": "stream",
     "text": [
      "Loading /home/bastian/Oscar-Image-Registration-via-Transport-Equation/testdata_2d/input.mgz\n",
      "dimension of image: (16, 22, 1) ( 352 voxels)\n",
      "Normalizing image\n",
      "Img.vector()[:].max() 0.9367520809173584\n",
      "Applying ReLU() to image\n"
     ]
    }
   ],
   "source": [
    "mymesh, my_img, channels = read_image(hyperparameters, name=\"image\", mesh=None, printout=True, \n",
    "                                      normalize=hyperparameters[\"normalize\"])"
   ]
  },
  {
   "cell_type": "code",
   "execution_count": 43,
   "id": "10642906",
   "metadata": {},
   "outputs": [],
   "source": [
    "fenmesh, fen_img1, fenchannels = Pic2FEM(FName=hyperparameters[\"image\"], \n",
    "                                         color=False, normalize=hyperparameters[\"normalize\"],\n",
    "                                         mesh=None)#hyperparameters[\"state_functiondegree\"])"
   ]
  },
  {
   "cell_type": "code",
   "execution_count": 46,
   "id": "c18abda5",
   "metadata": {},
   "outputs": [
    {
     "name": "stdout",
     "output_type": "stream",
     "text": [
      "391\n",
      "391\n",
      "(2112,)\n",
      "(2112,)\n"
     ]
    }
   ],
   "source": [
    "print(len(mymesh.coordinates()))\n",
    "print(len(fenmesh.coordinates()))\n",
    "\n",
    "print(my_img.vector()[:].shape)\n",
    "print(fen_img1.vector()[:].shape)"
   ]
  },
  {
   "cell_type": "code",
   "execution_count": 12,
   "id": "9de842d7",
   "metadata": {},
   "outputs": [],
   "source": [
    "Space = FunctionSpace(fenmesh, hyperparameters[\"state_functionspace\"], \n",
    "                      0\n",
    "                      #hyperparameters[\"state_functiondegree\"]\n",
    "                     )\n",
    "fen_img = project(fen_img1, Space)"
   ]
  },
  {
   "cell_type": "code",
   "execution_count": 13,
   "id": "0ed50f00",
   "metadata": {},
   "outputs": [
    {
     "name": "stdout",
     "output_type": "stream",
     "text": [
      "0.09704711909028453\n",
      "0.09639037433155086\n",
      "0.09639037433155086\n",
      "0.09718642814074238\n"
     ]
    }
   ],
   "source": [
    "print(np.mean(rawF))\n",
    "\n",
    "print(assemble(fen_img1*dx(domain=fenmesh)) / assemble(1*dx(domain=fenmesh)))\n",
    "print(assemble(fen_img*dx(domain=fenmesh)) / assemble(1*dx(domain=fenmesh)))\n",
    "print(assemble(my_img*dx(domain=mymesh)) / assemble(1*dx(domain=mymesh)))\n"
   ]
  },
  {
   "cell_type": "code",
   "execution_count": 14,
   "id": "8180113d",
   "metadata": {},
   "outputs": [
    {
     "data": {
      "text/plain": [
       "352"
      ]
     },
     "execution_count": 14,
     "metadata": {},
     "output_type": "execute_result"
    }
   ],
   "source": [
    "rawF.size"
   ]
  },
  {
   "cell_type": "code",
   "execution_count": 15,
   "id": "bd23eb70",
   "metadata": {},
   "outputs": [
    {
     "data": {
      "text/plain": [
       "(16, 22, 1)"
      ]
     },
     "execution_count": 15,
     "metadata": {},
     "output_type": "execute_result"
    }
   ],
   "source": [
    "rawF.shape"
   ]
  },
  {
   "cell_type": "code",
   "execution_count": 16,
   "id": "f94f8e19",
   "metadata": {},
   "outputs": [
    {
     "name": "stdout",
     "output_type": "stream",
     "text": [
      "(352, 2)\n",
      "(1890, 2)\n"
     ]
    }
   ],
   "source": [
    "nx, ny = rawF.shape[0], rawF.shape[1]\n",
    "\n",
    "dn = 1\n",
    "\n",
    "mesh2 = UnitSquareMesh(MPI.comm_world, nx - dn, ny - dn)\n",
    "\n",
    "V = FunctionSpace(mesh2, \"DG\", 1)\n",
    "\n",
    "print(np.unique(V.tabulate_dof_coordinates(), axis=0).shape)\n",
    "print(np.unique(V.tabulate_dof_coordinates(), axis=1).shape)"
   ]
  },
  {
   "cell_type": "code",
   "execution_count": 17,
   "id": "9a3997fc",
   "metadata": {
    "scrolled": false
   },
   "outputs": [
    {
     "data": {
      "image/png": "[encoded data removed]",
      "text/plain": [
       "<Figure size 640x480 with 2 Axes>"
      ]
     },
     "metadata": {},
     "output_type": "display_data"
    },
    {
     "data": {
      "image/png": "[encoded data removed]",
      "text/plain": [
       "<Figure size 640x480 with 2 Axes>"
      ]
     },
     "metadata": {},
     "output_type": "display_data"
    },
    {
     "data": {
      "image/png": "[encoded data removed]",
      "text/plain": [
       "<Figure size 640x480 with 2 Axes>"
      ]
     },
     "metadata": {},
     "output_type": "display_data"
    },
    {
     "data": {
      "text/plain": [
       "'\\nfor x in range(nx):\\n    for y in range(ny):\\n        ax1.set_title(\"image[x,y]\")\\n        ax1.scatter(y,x, c=my_img[x,y], \\n                    cmap=\"viridis\", vmin=0, vmax=1,\\n                    s=240, marker=\"s\")\\nfor ax in [ax1]:\\n    ax.invert_yaxis()\\n    ax.set_aspect(1)\\nplt.colorbar()\\nplt.show()\\n'"
      ]
     },
     "execution_count": 17,
     "metadata": {},
     "output_type": "execute_result"
    },
    {
     "data": {
      "image/png": "[encoded data removed]",
      "text/plain": [
       "<Figure size 640x480 with 1 Axes>"
      ]
     },
     "metadata": {},
     "output_type": "display_data"
    }
   ],
   "source": [
    "ax = plot(fen_img1)\n",
    "plt.colorbar(ax)\n",
    "plt.show()\n",
    "ax = plot(fen_img)\n",
    "plt.colorbar(ax)\n",
    "plt.show()\n",
    "ax = plot(my_img)\n",
    "plt.colorbar(ax)\n",
    "plt.show()\n",
    "fig, ax1 = plt.subplots(1)\n",
    "\n",
    "\"\"\"\n",
    "for x in range(nx):\n",
    "    for y in range(ny):\n",
    "        ax1.set_title(\"image[x,y]\")\n",
    "        ax1.scatter(y,x, c=my_img[x,y], \n",
    "                    cmap=\"viridis\", vmin=0, vmax=1,\n",
    "                    s=240, marker=\"s\")\n",
    "for ax in [ax1]:\n",
    "    ax.invert_yaxis()\n",
    "    ax.set_aspect(1)\n",
    "plt.colorbar()\n",
    "plt.show()\n",
    "\"\"\"\n"
   ]
  },
  {
   "cell_type": "code",
   "execution_count": 18,
   "id": "99aee6bc",
   "metadata": {},
   "outputs": [],
   "source": [
    "image = nibabel.load(FName2).get_fdata()"
   ]
  },
  {
   "cell_type": "code",
   "execution_count": 19,
   "id": "34f65b8f",
   "metadata": {},
   "outputs": [],
   "source": [
    "nx, ny = image.shape[0], image.shape[1]\n",
    "\n",
    "mesh2 = UnitSquareMesh(MPI.comm_world, nx, ny)\n",
    "\n",
    "VDG0=FunctionSpace(mesh2, \"DG\", 0)\n",
    "VDG1=FunctionSpace(mesh2, \"DG\", 1)\n",
    "u0=Function(VDG0)\n",
    "u1=Function(VDG1)"
   ]
  },
  {
   "cell_type": "code",
   "execution_count": 20,
   "id": "06147064",
   "metadata": {},
   "outputs": [
    {
     "data": {
      "text/plain": [
       "352"
      ]
     },
     "execution_count": 20,
     "metadata": {},
     "output_type": "execute_result"
    }
   ],
   "source": [
    "image.size"
   ]
  },
  {
   "cell_type": "code",
   "execution_count": 21,
   "id": "c675f4c4",
   "metadata": {},
   "outputs": [
    {
     "data": {
      "text/plain": [
       "(704,)"
      ]
     },
     "execution_count": 21,
     "metadata": {},
     "output_type": "execute_result"
    }
   ],
   "source": [
    "u0.vector()[:].shape"
   ]
  },
  {
   "cell_type": "code",
   "execution_count": 22,
   "id": "2caab02d",
   "metadata": {},
   "outputs": [
    {
     "data": {
      "text/plain": [
       "(2112,)"
      ]
     },
     "execution_count": 22,
     "metadata": {},
     "output_type": "execute_result"
    }
   ],
   "source": [
    "u1.vector()[:].shape"
   ]
  },
  {
   "cell_type": "code",
   "execution_count": 23,
   "id": "ba7b07fa",
   "metadata": {},
   "outputs": [
    {
     "data": {
      "text/plain": [
       "391"
      ]
     },
     "execution_count": 23,
     "metadata": {},
     "output_type": "execute_result"
    }
   ],
   "source": [
    "(rawF.shape[0]+1)*(rawF.shape[1]+1)"
   ]
  },
  {
   "cell_type": "code",
   "execution_count": 24,
   "id": "e259b33f",
   "metadata": {},
   "outputs": [
    {
     "data": {
      "text/plain": [
       "(704, 2)"
      ]
     },
     "execution_count": 24,
     "metadata": {},
     "output_type": "execute_result"
    }
   ],
   "source": [
    "VDG0.tabulate_dof_coordinates().shape"
   ]
  },
  {
   "cell_type": "code",
   "execution_count": 25,
   "id": "d9b81753",
   "metadata": {},
   "outputs": [
    {
     "data": {
      "text/plain": [
       "(2112, 2)"
      ]
     },
     "execution_count": 25,
     "metadata": {},
     "output_type": "execute_result"
    }
   ],
   "source": [
    "VDG1.tabulate_dof_coordinates().shape"
   ]
  },
  {
   "cell_type": "code",
   "execution_count": 26,
   "id": "f54e9863",
   "metadata": {},
   "outputs": [
    {
     "data": {
      "text/plain": [
       "(704, 2)"
      ]
     },
     "execution_count": 26,
     "metadata": {},
     "output_type": "execute_result"
    }
   ],
   "source": [
    "np.unique(VDG0.tabulate_dof_coordinates(), axis=0).shape"
   ]
  },
  {
   "cell_type": "code",
   "execution_count": 27,
   "id": "ba0074e9",
   "metadata": {},
   "outputs": [
    {
     "data": {
      "text/plain": [
       "(704, 2)"
      ]
     },
     "execution_count": 27,
     "metadata": {},
     "output_type": "execute_result"
    }
   ],
   "source": [
    "np.unique(VDG0.tabulate_dof_coordinates(), axis=1).shape"
   ]
  },
  {
   "cell_type": "code",
   "execution_count": 28,
   "id": "a6b5eb2a",
   "metadata": {},
   "outputs": [
    {
     "data": {
      "text/plain": [
       "(391, 2)"
      ]
     },
     "execution_count": 28,
     "metadata": {},
     "output_type": "execute_result"
    }
   ],
   "source": [
    "np.unique(VDG1.tabulate_dof_coordinates(), axis=0).shape"
   ]
  },
  {
   "cell_type": "code",
   "execution_count": 29,
   "id": "40197482",
   "metadata": {},
   "outputs": [
    {
     "data": {
      "text/plain": [
       "(2112, 2)"
      ]
     },
     "execution_count": 29,
     "metadata": {},
     "output_type": "execute_result"
    }
   ],
   "source": [
    "np.unique(VDG1.tabulate_dof_coordinates(), axis=1).shape"
   ]
  },
  {
   "cell_type": "code",
   "execution_count": 30,
   "id": "1f2bc6bd",
   "metadata": {},
   "outputs": [
    {
     "data": {
      "text/plain": [
       "(2112, 2)"
      ]
     },
     "execution_count": 30,
     "metadata": {},
     "output_type": "execute_result"
    }
   ],
   "source": [
    "VDG1.tabulate_dof_coordinates().shape"
   ]
  },
  {
   "cell_type": "code",
   "execution_count": 31,
   "id": "0a56398f",
   "metadata": {},
   "outputs": [],
   "source": [
    "xy = my_img.function_space().tabulate_dof_coordinates()"
   ]
  },
  {
   "cell_type": "code",
   "execution_count": 32,
   "id": "1f9ae38c",
   "metadata": {},
   "outputs": [
    {
     "data": {
      "text/plain": [
       "(2112, 2)"
      ]
     },
     "execution_count": 32,
     "metadata": {},
     "output_type": "execute_result"
    }
   ],
   "source": [
    "xy.shape"
   ]
  },
  {
   "cell_type": "code",
   "execution_count": 33,
   "id": "8fef003d",
   "metadata": {},
   "outputs": [
    {
     "data": {
      "text/plain": [
       "352"
      ]
     },
     "execution_count": 33,
     "metadata": {},
     "output_type": "execute_result"
    }
   ],
   "source": [
    "image.shape[0]*image.shape[1]"
   ]
  },
  {
   "cell_type": "code",
   "execution_count": null,
   "id": "5c48eaaf",
   "metadata": {},
   "outputs": [],
   "source": []
  },
  {
   "cell_type": "code",
   "execution_count": null,
   "id": "dfd1267e",
   "metadata": {},
   "outputs": [],
   "source": []
  },
  {
   "cell_type": "code",
   "execution_count": 34,
   "id": "b53ced45",
   "metadata": {},
   "outputs": [],
   "source": [
    "newimg = np.zeros_like(image) + np.nan\n",
    "for x in range(nx):\n",
    "    for y in range(ny):\n",
    "        newimg[x,y] = u0(x/(nx-1),y/(ny-1))\n",
    "        # newimg[x,y] = x/(nx-1)*y/(ny-1)\n",
    "        \n",
    "assert np.sum(np.isnan(newimg)) == 0"
   ]
  },
  {
   "cell_type": "code",
   "execution_count": 35,
   "id": "9848561b",
   "metadata": {},
   "outputs": [
    {
     "name": "stdout",
     "output_type": "stream",
     "text": [
      "0.0\n"
     ]
    }
   ],
   "source": [
    "print(np.max(newimg))"
   ]
  },
  {
   "cell_type": "code",
   "execution_count": 36,
   "id": "6311c5a9",
   "metadata": {},
   "outputs": [
    {
     "data": {
      "text/plain": [
       "<matplotlib.colorbar.Colorbar at 0x155315a90bb0>"
      ]
     },
     "execution_count": 36,
     "metadata": {},
     "output_type": "execute_result"
    },
    {
     "data": {
      "image/png": "[encoded data removed]",
      "text/plain": [
       "<Figure size 640x480 with 2 Axes>"
      ]
     },
     "metadata": {},
     "output_type": "display_data"
    }
   ],
   "source": [
    "plt.imshow(newimg)\n",
    "plt.colorbar()"
   ]
  },
  {
   "cell_type": "code",
   "execution_count": null,
   "id": "5ed33750",
   "metadata": {},
   "outputs": [],
   "source": []
  },
  {
   "cell_type": "code",
   "execution_count": 37,
   "id": "cd6e9a49",
   "metadata": {},
   "outputs": [],
   "source": [
    "nx, ny = image.shape[0], image.shape[1]\n",
    "\n",
    "dn = 0\n",
    "\n",
    "mesh2 = UnitSquareMesh(MPI.comm_world, nx - dn, ny - dn)\n",
    "\n",
    "VDG0=FunctionSpace(mesh2, \"DG\", 0)\n",
    "VDG1=FunctionSpace(mesh2, \"DG\", 1)\n",
    "u0=Function(VDG0)\n",
    "\n",
    "u1 = Function(VDG1)"
   ]
  },
  {
   "cell_type": "code",
   "execution_count": 38,
   "id": "73575ebe",
   "metadata": {},
   "outputs": [
    {
     "data": {
      "text/plain": [
       "<matplotlib.legend.Legend at 0x1553159b68b0>"
      ]
     },
     "execution_count": 38,
     "metadata": {},
     "output_type": "execute_result"
    },
    {
     "data": {
      "image/png": "[encoded data removed]",
      "text/plain": [
       "<Figure size 640x480 with 1 Axes>"
      ]
     },
     "metadata": {},
     "output_type": "display_data"
    }
   ],
   "source": [
    "plt.scatter(mesh2.coordinates()[:,0], mesh2.coordinates()[:,1])\n",
    "\n",
    "xy = u0.function_space().tabulate_dof_coordinates()\n",
    "plt.scatter(xy[:,0], xy[:,1], c=\"r\", s=2)\n",
    "\n",
    "xy = u1.function_space().tabulate_dof_coordinates()\n",
    "plt.scatter(xy[:,0], xy[:,1], c=\"yellow\", s=2)\n",
    "\n",
    "for x in range(nx):\n",
    "    for y in range(ny):\n",
    "        plt.scatter(x/nx, y/ny, s=2, c=\"k\")\n",
    "        \n",
    "        \n",
    "plt.plot([],[], marker=\"o\", label=\"DG1\", color=\"yellow\")\n",
    "plt.legend()\n",
    "#for cell in cells(mesh2):\n",
    "#    plt.scatter(x=cell.midpoint()[:][0],y=cell.midpoint()[:][1], c=\"navy\")"
   ]
  },
  {
   "cell_type": "code",
   "execution_count": 39,
   "id": "d09e4d73",
   "metadata": {},
   "outputs": [],
   "source": [
    "do_norm = True"
   ]
  },
  {
   "cell_type": "code",
   "execution_count": 40,
   "id": "0d55fc84",
   "metadata": {},
   "outputs": [],
   "source": [
    "if do_norm:\n",
    "    image2 = np.copy(image)\n",
    "    image2 /= np.max(image2)\n",
    "\n",
    "    image2 = np.where(image2 < 0, 0, image2)\n",
    "    \n",
    "else:\n",
    "    image2 = np.copy(image)"
   ]
  },
  {
   "cell_type": "code",
   "execution_count": 41,
   "id": "5395c9ce",
   "metadata": {},
   "outputs": [
    {
     "name": "stdout",
     "output_type": "stream",
     "text": [
      "Loading /home/bastian/Oscar-Image-Registration-via-Transport-Equation/testdata_2d/input.mgz\n",
      "dimension of image: (16, 22, 1) ( 352 voxels)\n",
      "Normalizing image\n",
      "Img.vector()[:].max() 0.9367520809173584\n",
      "Applying ReLU() to image\n"
     ]
    },
    {
     "ename": "TypeError",
     "evalue": "read_image() got an unexpected keyword argument 'degree'",
     "output_type": "error",
     "traceback": [
      "\u001b[0;31m---------------------------------------------------------------------------\u001b[0m",
      "\u001b[0;31mTypeError\u001b[0m                                 Traceback (most recent call last)",
      "Cell \u001b[0;32mIn[41], line 3\u001b[0m\n\u001b[1;32m      1\u001b[0m _, my_img, _ \u001b[38;5;241m=\u001b[39m read_image(hyperparameters, name\u001b[38;5;241m=\u001b[39m\u001b[38;5;124m\"\u001b[39m\u001b[38;5;124mimage\u001b[39m\u001b[38;5;124m\"\u001b[39m, \n\u001b[1;32m      2\u001b[0m                                       mesh\u001b[38;5;241m=\u001b[39m\u001b[38;5;28;01mNone\u001b[39;00m, printout\u001b[38;5;241m=\u001b[39m\u001b[38;5;28;01mTrue\u001b[39;00m, normalize\u001b[38;5;241m=\u001b[39mdo_norm)\n\u001b[0;32m----> 3\u001b[0m _, my_img1, _ \u001b[38;5;241m=\u001b[39m \u001b[43mread_image\u001b[49m\u001b[43m(\u001b[49m\u001b[43mhyperparameters\u001b[49m\u001b[43m,\u001b[49m\u001b[43m \u001b[49m\u001b[43mname\u001b[49m\u001b[38;5;241;43m=\u001b[39;49m\u001b[38;5;124;43m\"\u001b[39;49m\u001b[38;5;124;43mimage\u001b[39;49m\u001b[38;5;124;43m\"\u001b[39;49m\u001b[43m,\u001b[49m\u001b[43m \u001b[49m\u001b[43mdegree\u001b[49m\u001b[38;5;241;43m=\u001b[39;49m\u001b[38;5;241;43m1\u001b[39;49m\u001b[43m,\u001b[49m\n\u001b[1;32m      4\u001b[0m \u001b[43m                                      \u001b[49m\u001b[43mmesh\u001b[49m\u001b[38;5;241;43m=\u001b[39;49m\u001b[38;5;28;43;01mNone\u001b[39;49;00m\u001b[43m,\u001b[49m\u001b[43m \u001b[49m\u001b[43mprintout\u001b[49m\u001b[38;5;241;43m=\u001b[39;49m\u001b[38;5;28;43;01mTrue\u001b[39;49;00m\u001b[43m,\u001b[49m\u001b[43m \u001b[49m\u001b[43mnormalize\u001b[49m\u001b[38;5;241;43m=\u001b[39;49m\u001b[43mdo_norm\u001b[49m\u001b[43m)\u001b[49m\n\u001b[1;32m      6\u001b[0m _, fen_img0, _ \u001b[38;5;241m=\u001b[39m Pic2FEM(FName\u001b[38;5;241m=\u001b[39mhyperparameters[\u001b[38;5;124m\"\u001b[39m\u001b[38;5;124mimage\u001b[39m\u001b[38;5;124m\"\u001b[39m], \n\u001b[1;32m      7\u001b[0m                                          color\u001b[38;5;241m=\u001b[39m\u001b[38;5;28;01mTrue\u001b[39;00m, normalize\u001b[38;5;241m=\u001b[39mdo_norm,\n\u001b[1;32m      8\u001b[0m                                          mesh\u001b[38;5;241m=\u001b[39m\u001b[38;5;28;01mNone\u001b[39;00m)\u001b[38;5;66;03m#hyperparameters[\"state_functiondegree\"])\u001b[39;00m\n\u001b[1;32m     10\u001b[0m _, fen_img1, _ \u001b[38;5;241m=\u001b[39m Pic2FEM(FName\u001b[38;5;241m=\u001b[39mhyperparameters[\u001b[38;5;124m\"\u001b[39m\u001b[38;5;124mimage\u001b[39m\u001b[38;5;124m\"\u001b[39m], \n\u001b[1;32m     11\u001b[0m                                          color\u001b[38;5;241m=\u001b[39m\u001b[38;5;28;01mFalse\u001b[39;00m, normalize\u001b[38;5;241m=\u001b[39mdo_norm,\n\u001b[1;32m     12\u001b[0m                                          mesh\u001b[38;5;241m=\u001b[39m\u001b[38;5;28;01mNone\u001b[39;00m)\n",
      "\u001b[0;31mTypeError\u001b[0m: read_image() got an unexpected keyword argument 'degree'"
     ]
    }
   ],
   "source": [
    "_, my_img, _ = read_image(hyperparameters, name=\"image\", \n",
    "                                      mesh=None, printout=True, normalize=do_norm)\n",
    "_, my_img1, _ = read_image(hyperparameters, name=\"image\", degree=1,\n",
    "                                      mesh=None, printout=True, normalize=do_norm)\n",
    "\n",
    "_, fen_img0, _ = Pic2FEM(FName=hyperparameters[\"image\"], \n",
    "                                         color=True, normalize=do_norm,\n",
    "                                         mesh=None)#hyperparameters[\"state_functiondegree\"])\n",
    "\n",
    "_, fen_img1, _ = Pic2FEM(FName=hyperparameters[\"image\"], \n",
    "                                         color=False, normalize=do_norm,\n",
    "                                         mesh=None)#hyperparameters[\"state_functiondegree\"])"
   ]
  },
  {
   "cell_type": "code",
   "execution_count": null,
   "id": "56a54c8b",
   "metadata": {},
   "outputs": [],
   "source": [
    "print(np.mean(image2))\n",
    "\n",
    "print(assemble(fen_img1*dx(domain=fenmesh)) / assemble(1*dx(domain=fenmesh)))\n",
    "print(assemble(fen_img0*dx(domain=fenmesh)) / assemble(1*dx(domain=fenmesh)))\n",
    "print(assemble(my_img*dx(domain=mymesh)) / assemble(1*dx(domain=mymesh)))\n",
    "print(assemble(my_img1*dx(domain=mymesh1)) / assemble(1*dx(domain=mymesh1)))"
   ]
  },
  {
   "cell_type": "code",
   "execution_count": null,
   "id": "b5269f55",
   "metadata": {},
   "outputs": [],
   "source": [
    "ax = plot(my_img)\n",
    "plt.colorbar(ax)\n",
    "plt.show()\n",
    "ax = plot(my_img1)\n",
    "plt.colorbar(ax)\n",
    "plt.show()\n",
    "ax = plot(fen_img0)\n",
    "plt.colorbar(ax)\n",
    "plt.show()\n",
    "ax = plot(fen_img1)\n",
    "plt.colorbar(ax)\n",
    "plt.show()"
   ]
  },
  {
   "cell_type": "code",
   "execution_count": null,
   "id": "36a4206e",
   "metadata": {
    "scrolled": false
   },
   "outputs": [],
   "source": [
    "fig, ax1 = plt.subplots(1)\n",
    "fig2, ax2 = plt.subplots(1)\n",
    "fig3, ax3 = plt.subplots(1)\n",
    "fig4, ax4 = plt.subplots(1)\n",
    "fig5, ax5 = plt.subplots(1)\n",
    "\n",
    "for x in range(nx):\n",
    "    for y in range(ny):\n",
    "        ax1.set_title(\"image[x,y]\")\n",
    "        ax1.scatter(y,x, c=image[x,y], \n",
    "                    cmap=\"viridis\", vmin=0, vmax=1,\n",
    "                    s=240, marker=\"s\")\n",
    "        \n",
    "        ax2.set_title(\"my_img(x/nx,y/ny)\")\n",
    "        ax2.scatter(y,x, c=my_img(x/nx,y/ny), \n",
    "                    cmap=\"viridis\", vmin=0, vmax=1,\n",
    "                    s=240, marker=\"s\")\n",
    "        \n",
    "        ax3.set_title(\"my_img1(x/nx,y/ny)\")\n",
    "        ax3.scatter(y,x, c=my_img1(x/nx,y/ny), \n",
    "                    cmap=\"viridis\", vmin=0, vmax=1,\n",
    "                    s=240, marker=\"s\")\n",
    "        ax4.set_title(\"fen_img0(y, x)\")\n",
    "        ax4.scatter(y,x, c=fen_img0(y,x), \n",
    "                    cmap=\"viridis\", vmin=0, vmax=1,\n",
    "                    s=240, marker=\"s\")\n",
    "        ax5.set_title(\"fen_img1(y, x)\")\n",
    "        ax5.scatter(y,x, c=fen_img1(y,x), \n",
    "                    cmap=\"viridis\", vmin=0, vmax=1,\n",
    "                    s=240, marker=\"s\")\n",
    "        \n",
    "for ax in [ax1, ax2, ax3, ax4, ax5]:\n",
    "    # ax = plt.gca()\n",
    "    ax.invert_yaxis()\n",
    "    ax.set_aspect(1)\n",
    "#plt.colorbar()\n",
    "plt.show()\n",
    "\n",
    "plt.title(\"imshow image\")\n",
    "plt.imshow(image2, vmin=0, vmax=1)\n",
    "#plt.colorbar()\n",
    "plt.show()"
   ]
  },
  {
   "cell_type": "code",
   "execution_count": null,
   "id": "e3c8d0fd",
   "metadata": {},
   "outputs": [],
   "source": []
  },
  {
   "cell_type": "code",
   "execution_count": null,
   "id": "6139ab7e",
   "metadata": {},
   "outputs": [],
   "source": []
  },
  {
   "cell_type": "code",
   "execution_count": null,
   "id": "33a95a36",
   "metadata": {},
   "outputs": [],
   "source": []
  },
  {
   "cell_type": "code",
   "execution_count": null,
   "id": "a0e1c857",
   "metadata": {},
   "outputs": [],
   "source": []
  }
 ],
 "metadata": {
  "kernelspec": {
   "display_name": "Python 3 (ipykernel)",
   "language": "python",
   "name": "python3"
  },
  "language_info": {
   "codemirror_mode": {
    "name": "ipython",
    "version": 3
   },
   "file_extension": ".py",
   "mimetype": "text/x-python",
   "name": "python",
   "nbconvert_exporter": "python",
   "pygments_lexer": "ipython3",
   "version": "3.9.10"
  }
 },
 "nbformat": 4,
 "nbformat_minor": 5
}
