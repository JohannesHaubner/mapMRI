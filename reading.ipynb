{
 "cells": [
  {
   "cell_type": "code",
   "execution_count": null,
   "id": "a3d554e5",
   "metadata": {},
   "outputs": [],
   "source": [
    "from PIL import Image\n",
    "import nibabel\n",
    "import os, pathlib, numpy, json\n",
    "import h5py\n",
    "from fenics import *\n",
    "from fenics_adjoint import *"
   ]
  },
  {
   "cell_type": "code",
   "execution_count": null,
   "id": "ed96528f",
   "metadata": {},
   "outputs": [],
   "source": [
    "datadir = pathlib.Path(\"/home/bastian/Oscar-Image-Registration-via-Transport-Equation/testdata_3d\")"
   ]
  },
  {
   "cell_type": "code",
   "execution_count": null,
   "id": "6dbc3c67",
   "metadata": {},
   "outputs": [],
   "source": [
    "datadir = pathlib.Path(\"/home/bastian/Oscar-Image-Registration-via-Transport-Equation/testdata_2d\")"
   ]
  },
  {
   "cell_type": "code",
   "execution_count": null,
   "id": "e15ec61a",
   "metadata": {},
   "outputs": [],
   "source": [
    "hyperparameters = {}\n",
    "hyperparameters[\"state_functiondegree\"] = 1\n",
    "hyperparameters[\"state_functionspace\"] = \"DG\""
   ]
  },
  {
   "cell_type": "code",
   "execution_count": null,
   "id": "c75e16eb",
   "metadata": {},
   "outputs": [],
   "source": [
    "hyperparameters[\"normalize\"] = True"
   ]
  },
  {
   "cell_type": "code",
   "execution_count": null,
   "id": "f96bc7ae",
   "metadata": {},
   "outputs": [],
   "source": [
    "hyperparameters[\"image\"] = str(datadir / \"input.mgz\")"
   ]
  },
  {
   "cell_type": "code",
   "execution_count": null,
   "id": "73165079",
   "metadata": {},
   "outputs": [],
   "source": [
    "def read_image(hyperparameters, name, mesh=None, printout=True, normalize=True, degree=0):\n",
    "    \n",
    "    if hyperparameters[name].endswith(\".mgz\"):\n",
    "        image2 = nibabel.load(hyperparameters[name])\n",
    "        data = image2.get_fdata()\n",
    "    elif hyperparameters[name].endswith(\".png\"):\n",
    "        img = Image.open(hyperparameters[name])\n",
    "        img = img.convert(\"L\")\n",
    "        data = np.array(img)\n",
    "        data = np.expand_dims(data, -1)\n",
    "    \n",
    "    if normalize:\n",
    "        if printout:\n",
    "            print(\"Normalizing image\")\n",
    "            print(\"Img.vector()[:].max()\", data.max())\n",
    "\n",
    "        data *= 1 /data.max()\n",
    "\n",
    "        if printout:\n",
    "            print(\"Applying ReLU() to image\")\n",
    "        \n",
    "        data = np.where(data < 0, 0, data)\n",
    "        \n",
    "    \n",
    "    if printout:\n",
    "        print(\"dimension of image:\", data.shape, \"(\", data.size, \"voxels)\")\n",
    "\n",
    "\n",
    "    # data = np.swapaxes(data, 1, 0)\n",
    "\n",
    "    nx = data.shape[0] \n",
    "    ny = data.shape[1]\n",
    "    nz = data.shape[2]\n",
    "    hyperparameters[name + \".shape\"] = list(data.shape)\n",
    "\n",
    "    dn = 0\n",
    "    \n",
    "    if mesh is None:\n",
    "        if nz == 1:\n",
    "            mesh = UnitSquareMesh(MPI.comm_world, nx + dn, ny + dn)\n",
    "        else:\n",
    "            mesh = UnitCubeMesh(MPI.comm_world, nx + dn, ny + dn, nz + dn)\n",
    "    \n",
    "    dx = (nx-1)\n",
    "    dy = (ny-1)\n",
    "    dz = (nz-1)\n",
    "    \n",
    "    mesh.coordinates()[:, 0] *= nx\n",
    "    mesh.coordinates()[:, 1] *= ny\n",
    "    mesh.coordinates()[:, 2] *= nz\n",
    "    dx = 1\n",
    "    dy = 1\n",
    "    dz = 1\n",
    "    \n",
    "    # xyz = space.tabulate_dof_coordinates().transpose()\n",
    "\n",
    "    xyz[0, :] *= dx\n",
    "    xyz[1, :] *= dy\n",
    "    \n",
    "    if nz > 1:\n",
    "        xyz[2, :] *= dz\n",
    "\n",
    "    else:\n",
    "\n",
    "        xyz2 = np.zeros((3, xyz.shape[1]))\n",
    "\n",
    "        xyz2[0, :] = xyz[0, :]\n",
    "        xyz2[1, :] = xyz[1, :]\n",
    "\n",
    "        xyz = xyz2\n",
    "        del xyz2\n",
    "        \n",
    "    space = FunctionSpace(mesh, hyperparameters[\"state_functionspace\"], \n",
    "                         0,\n",
    "                          #hyperparameters[\"state_functiondegree\"]\n",
    "                         )\n",
    "    u_data = Function(space)\n",
    "    \n",
    "    u_data.vector()[:] = np.nan\n",
    "    \n",
    "    \n",
    "    i, j, k = np.rint(xyz).astype(\"int\")\n",
    "    u_data.vector()[:] = data[i, j, k]\n",
    "\n",
    "    if degree == 1:\n",
    "    \n",
    "        space = FunctionSpace(mesh, hyperparameters[\"state_functionspace\"], degree)\n",
    "\n",
    "        u_data = project(u_data, space)\n",
    "        \n",
    "    assert np.sum(np.isnan(u_data.vector()[:])) == 0\n",
    "    return mesh, u_data, 1"
   ]
  },
  {
   "cell_type": "code",
   "execution_count": null,
   "id": "a10b69ad",
   "metadata": {},
   "outputs": [],
   "source": [
    "def Pic2FEM(FName, mesh=None, color=False, normalize=True):\n",
    "    if FName.endswith(\"mgz\"):\n",
    "        import nibabel\n",
    "        myarray=nibabel.load(FName).get_fdata()[:,:, 0]\n",
    "        myarray = myarray / np.max(myarray)\n",
    "        img = Image.fromarray(np.uint8(myarray*255))\n",
    "        img = img.convert(\"RGB\")\n",
    "    else:\n",
    "        img = Image.open(FName)\n",
    "    xPixel = np.shape(img)[0]\n",
    "    yPixel = np.shape(img)[1]\n",
    "    \n",
    "    #which of the color channels to process\n",
    "    if color:\n",
    "        Channels = (0,1,2)\n",
    "        img.convert(\"RGB\")\n",
    "    else:\n",
    "        Channels = (0,)\n",
    "        img.convert(\"L\")        \n",
    "    \n",
    "    if mesh == None:\n",
    "        mesh = RectangleMesh(MPI.comm_world, Point(0.0, 0.0), Point(img.size[0], img.size[1]), int(img.size[0]), int(img.size[1]), \"right\")\n",
    "    \n",
    "    #Key mapping between global vertex index (input) and (i,j) pixel coordinate (output)\n",
    "    #needs to be changed if the diagonal is not \"right\"\n",
    "    PixID = np.zeros([2*img.size[0]*img.size[1], 2], dtype=\"uint\")\n",
    "    for i in range(img.size[0]):\n",
    "        for j in range(img.size[1]):\n",
    "            #print \"init:\", i, j\n",
    "            PixID[2*(img.size[0]*j + i)+0, 0] = img.size[1] - 1 - j\n",
    "            PixID[2*(img.size[0]*j + i)+1, 0] = img.size[1] - 1 - j\n",
    "            PixID[2*(img.size[0]*j + i)+0, 1] = i\n",
    "            PixID[2*(img.size[0]*j + i)+1, 1] = i\n",
    "    \n",
    "    if color:\n",
    "        ImgSpace = VectorFunctionSpace(mesh, \"DG\", 0, len(Channels))\n",
    "    else:\n",
    "        ImgSpace = FunctionSpace(mesh, \"DG\", 0)\n",
    "        \n",
    "    ImgFunction = Function(ImgSpace)\n",
    "    ImgFunction.rename(\"image\", \"\")\n",
    "    Fvalues = np.zeros(ImgFunction.vector().local_size())\n",
    "        \n",
    "    for chan in Channels:\n",
    "        if color:\n",
    "            ImgDofs = ImgSpace.sub(chan).dofmap()\n",
    "            cData = np.array(img.getchannel(chan))\n",
    "        else:\n",
    "            ImgDofs = ImgSpace.dofmap() #tabulate_dof_coordinates()\n",
    "            cData = np.array(img.getchannel(chan))\n",
    "        \n",
    "        for c in cells(mesh):\n",
    "            #local and global index of cell\n",
    "            LID = c.index()\n",
    "            GID = c.global_index()\n",
    "            #local dof in DG0 function\n",
    "            FID = ImgDofs.cell_dofs(c.index())[0]\n",
    "            #get grey value from image\n",
    "            MyGrey = cData[PixID[GID, 0], PixID[GID, 1]]\n",
    "            #map 0..255 grey steps to [0,1]\n",
    "            normval = 1\n",
    "            if normalize:\n",
    "                normval = 255.0\n",
    "            fValue = MyGrey/(normval)\n",
    "            Fvalues[FID] = fValue\n",
    "\n",
    "    #Set function values\n",
    "    ImgFunction.vector().set_local(Fvalues)\n",
    "    ImgFunction.vector().apply(\"\")\n",
    "\n",
    "\n",
    "    Space = FunctionSpace(mesh, hyperparameters[\"state_functionspace\"], hyperparameters[\"state_functiondegree\"])\n",
    "    ImgFunction = project(sqrt(inner(ImgFunction, ImgFunction)), Space)\n",
    "        \n",
    "    return mesh, ImgFunction, len(Channels)"
   ]
  },
  {
   "cell_type": "code",
   "execution_count": null,
   "id": "cfc4ab1a",
   "metadata": {},
   "outputs": [],
   "source": [
    "FName2 = str(hyperparameters[\"image\"])\n",
    "\n",
    "rawF = nibabel.load(FName2).get_fdata()\n",
    "\n",
    "if hyperparameters[\"normalize\"]:\n",
    "    rawF /= np.max(rawF)\n",
    "\n",
    "    rawF = np.where(rawF < 0, 0, rawF)"
   ]
  },
  {
   "cell_type": "code",
   "execution_count": null,
   "id": "eab09eae",
   "metadata": {},
   "outputs": [],
   "source": [
    "mesh2.coordinates().shape"
   ]
  },
  {
   "cell_type": "code",
   "execution_count": null,
   "id": "fc3f0bd6",
   "metadata": {},
   "outputs": [],
   "source": [
    "mymesh, my_img, channels = read_image(hyperparameters, name=\"image\", mesh=None, printout=True, \n",
    "                                      normalize=hyperparameters[\"normalize\"])\n",
    "mymesh1, my_img1, channels1 = read_image(hyperparameters, name=\"image\", mesh=None, degree=hyperparameters[\"state_functiondegree\"],\n",
    "                                         printout=True, normalize=hyperparameters[\"normalize\"])"
   ]
  },
  {
   "cell_type": "code",
   "execution_count": null,
   "id": "10642906",
   "metadata": {},
   "outputs": [],
   "source": [
    "fenmesh, fen_img1, fenchannels = Pic2FEM(FName=hyperparameters[\"image\"], \n",
    "                                         color=False, normalize=hyperparameters[\"normalize\"],\n",
    "                                         mesh=None)#hyperparameters[\"state_functiondegree\"])"
   ]
  },
  {
   "cell_type": "code",
   "execution_count": null,
   "id": "9de842d7",
   "metadata": {},
   "outputs": [],
   "source": [
    "Space = FunctionSpace(fenmesh, hyperparameters[\"state_functionspace\"], \n",
    "                      0\n",
    "                      #hyperparameters[\"state_functiondegree\"]\n",
    "                     )\n",
    "fen_img = project(fen_img1, Space)"
   ]
  },
  {
   "cell_type": "code",
   "execution_count": null,
   "id": "bd3511a9",
   "metadata": {},
   "outputs": [],
   "source": [
    "my_img1.vector()[:].size / my_img.vector()[:].size"
   ]
  },
  {
   "cell_type": "code",
   "execution_count": null,
   "id": "0ed50f00",
   "metadata": {},
   "outputs": [],
   "source": [
    "print(np.mean(rawF))\n",
    "\n",
    "print(assemble(fen_img1*dx(domain=fenmesh)) / assemble(1*dx(domain=fenmesh)))\n",
    "print(assemble(fen_img*dx(domain=fenmesh)) / assemble(1*dx(domain=fenmesh)))\n",
    "print(assemble(my_img*dx(domain=mymesh)) / assemble(1*dx(domain=mymesh)))\n",
    "print(assemble(my_img1*dx(domain=mymesh1)) / assemble(1*dx(domain=mymesh1)))"
   ]
  },
  {
   "cell_type": "code",
   "execution_count": null,
   "id": "8180113d",
   "metadata": {},
   "outputs": [],
   "source": [
    "rawF.size"
   ]
  },
  {
   "cell_type": "code",
   "execution_count": null,
   "id": "bd23eb70",
   "metadata": {},
   "outputs": [],
   "source": [
    "rawF.shape"
   ]
  },
  {
   "cell_type": "code",
   "execution_count": null,
   "id": "f94f8e19",
   "metadata": {},
   "outputs": [],
   "source": [
    "nx, ny = rawF.shape[0], rawF.shape[1]\n",
    "V=my_img1.function_space()\n",
    "\n",
    "dn = 1\n",
    "\n",
    "mesh2 = UnitSquareMesh(MPI.comm_world, nx - dn, ny - dn)\n",
    "\n",
    "V = FunctionSpace(mesh2, \"DG\", 1)\n",
    "\n",
    "print(np.unique(V.tabulate_dof_coordinates(), axis=0).shape)\n",
    "print(np.unique(V.tabulate_dof_coordinates(), axis=1).shape)"
   ]
  },
  {
   "cell_type": "code",
   "execution_count": null,
   "id": "9a3997fc",
   "metadata": {
    "scrolled": false
   },
   "outputs": [],
   "source": [
    "ax = plot(fen_img1)\n",
    "plt.colorbar(ax)\n",
    "plt.show()\n",
    "ax = plot(fen_img)\n",
    "plt.colorbar(ax)\n",
    "plt.show()\n",
    "ax = plot(my_img)\n",
    "plt.colorbar(ax)\n",
    "plt.show()\n",
    "fig, ax1 = plt.subplots(1)\n",
    "\n",
    "\"\"\"\n",
    "for x in range(nx):\n",
    "    for y in range(ny):\n",
    "        ax1.set_title(\"image[x,y]\")\n",
    "        ax1.scatter(y,x, c=my_img[x,y], \n",
    "                    cmap=\"viridis\", vmin=0, vmax=1,\n",
    "                    s=240, marker=\"s\")\n",
    "for ax in [ax1]:\n",
    "    ax.invert_yaxis()\n",
    "    ax.set_aspect(1)\n",
    "plt.colorbar()\n",
    "plt.show()\n",
    "\"\"\"\n",
    "\n",
    "ax = plot(my_img1)\n",
    "plt.colorbar(ax)\n",
    "plt.show()"
   ]
  },
  {
   "cell_type": "code",
   "execution_count": null,
   "id": "6d1964b3",
   "metadata": {},
   "outputs": [],
   "source": [
    "print(assemble((my_img1-my_img)*dx(domain=mymesh1)))\n",
    "print(assemble((fen_img-fen_img1)*dx(domain=fenmesh)))"
   ]
  },
  {
   "cell_type": "code",
   "execution_count": null,
   "id": "5b3cb7d5",
   "metadata": {},
   "outputs": [],
   "source": [
    "print(fenmesh.num_cells(), fenmesh.num_vertices())\n",
    "print(mymesh.num_cells(), mymesh.num_vertices())"
   ]
  },
  {
   "cell_type": "code",
   "execution_count": null,
   "id": "eb290eee",
   "metadata": {},
   "outputs": [],
   "source": [
    "print(fen_img1.function_space())\n",
    "print(fen_img.function_space())\n",
    "print(my_img.function_space())"
   ]
  },
  {
   "cell_type": "code",
   "execution_count": null,
   "id": "3968b00d",
   "metadata": {},
   "outputs": [],
   "source": [
    "print(fen_img1.function_space().tabulate_dof_coordinates().shape)\n",
    "print(fen_img.function_space().tabulate_dof_coordinates().shape)\n",
    "print(my_img.function_space().tabulate_dof_coordinates().shape)"
   ]
  },
  {
   "cell_type": "code",
   "execution_count": null,
   "id": "675e627d",
   "metadata": {},
   "outputs": [],
   "source": [
    "print(fen_img.vector()[:].shape)\n",
    "print(my_img.vector()[:].shape)"
   ]
  },
  {
   "cell_type": "code",
   "execution_count": null,
   "id": "99aee6bc",
   "metadata": {},
   "outputs": [],
   "source": [
    "image = nibabel.load(FName2).get_fdata()"
   ]
  },
  {
   "cell_type": "code",
   "execution_count": null,
   "id": "34f65b8f",
   "metadata": {},
   "outputs": [],
   "source": [
    "nx, ny = image.shape[0], image.shape[1]\n",
    "\n",
    "mesh2 = UnitSquareMesh(MPI.comm_world, nx, ny)\n",
    "\n",
    "VDG0=FunctionSpace(mesh2, \"DG\", 0)\n",
    "VDG1=FunctionSpace(mesh2, \"DG\", 1)\n",
    "u0=Function(VDG0)\n",
    "u1=Function(VDG1)"
   ]
  },
  {
   "cell_type": "code",
   "execution_count": null,
   "id": "06147064",
   "metadata": {},
   "outputs": [],
   "source": [
    "image.size"
   ]
  },
  {
   "cell_type": "code",
   "execution_count": null,
   "id": "c675f4c4",
   "metadata": {},
   "outputs": [],
   "source": [
    "u0.vector()[:].shape"
   ]
  },
  {
   "cell_type": "code",
   "execution_count": null,
   "id": "2caab02d",
   "metadata": {},
   "outputs": [],
   "source": [
    "u1.vector()[:].shape"
   ]
  },
  {
   "cell_type": "code",
   "execution_count": null,
   "id": "ba7b07fa",
   "metadata": {},
   "outputs": [],
   "source": [
    "(rawF.shape[0]+1)*(rawF.shape[1]+1)"
   ]
  },
  {
   "cell_type": "code",
   "execution_count": null,
   "id": "e259b33f",
   "metadata": {},
   "outputs": [],
   "source": [
    "VDG0.tabulate_dof_coordinates().shape"
   ]
  },
  {
   "cell_type": "code",
   "execution_count": null,
   "id": "d9b81753",
   "metadata": {},
   "outputs": [],
   "source": [
    "VDG1.tabulate_dof_coordinates().shape"
   ]
  },
  {
   "cell_type": "code",
   "execution_count": null,
   "id": "f54e9863",
   "metadata": {},
   "outputs": [],
   "source": [
    "np.unique(VDG0.tabulate_dof_coordinates(), axis=0).shape"
   ]
  },
  {
   "cell_type": "code",
   "execution_count": null,
   "id": "ba0074e9",
   "metadata": {},
   "outputs": [],
   "source": [
    "np.unique(VDG0.tabulate_dof_coordinates(), axis=1).shape"
   ]
  },
  {
   "cell_type": "code",
   "execution_count": null,
   "id": "a6b5eb2a",
   "metadata": {},
   "outputs": [],
   "source": [
    "np.unique(VDG1.tabulate_dof_coordinates(), axis=0).shape"
   ]
  },
  {
   "cell_type": "code",
   "execution_count": null,
   "id": "40197482",
   "metadata": {},
   "outputs": [],
   "source": [
    "np.unique(VDG1.tabulate_dof_coordinates(), axis=1).shape"
   ]
  },
  {
   "cell_type": "code",
   "execution_count": null,
   "id": "1f2bc6bd",
   "metadata": {},
   "outputs": [],
   "source": [
    "VDG1.tabulate_dof_coordinates().shape"
   ]
  },
  {
   "cell_type": "code",
   "execution_count": null,
   "id": "0a56398f",
   "metadata": {},
   "outputs": [],
   "source": [
    "xy = my_img.function_space().tabulate_dof_coordinates()"
   ]
  },
  {
   "cell_type": "code",
   "execution_count": null,
   "id": "1f9ae38c",
   "metadata": {},
   "outputs": [],
   "source": [
    "xy.shape"
   ]
  },
  {
   "cell_type": "code",
   "execution_count": null,
   "id": "8fef003d",
   "metadata": {},
   "outputs": [],
   "source": [
    "image.shape[0]*image.shape[1]"
   ]
  },
  {
   "cell_type": "code",
   "execution_count": null,
   "id": "5c48eaaf",
   "metadata": {},
   "outputs": [],
   "source": []
  },
  {
   "cell_type": "code",
   "execution_count": null,
   "id": "dfd1267e",
   "metadata": {},
   "outputs": [],
   "source": []
  },
  {
   "cell_type": "code",
   "execution_count": null,
   "id": "b53ced45",
   "metadata": {},
   "outputs": [],
   "source": [
    "newimg = np.zeros_like(image) + np.nan\n",
    "for x in range(nx):\n",
    "    for y in range(ny):\n",
    "        newimg[x,y] = u0(x/(nx-1),y/(ny-1))\n",
    "        # newimg[x,y] = x/(nx-1)*y/(ny-1)\n",
    "        \n",
    "assert np.sum(np.isnan(newimg)) == 0"
   ]
  },
  {
   "cell_type": "code",
   "execution_count": null,
   "id": "9848561b",
   "metadata": {},
   "outputs": [],
   "source": [
    "print(np.max(newimg))"
   ]
  },
  {
   "cell_type": "code",
   "execution_count": null,
   "id": "6311c5a9",
   "metadata": {},
   "outputs": [],
   "source": [
    "plt.imshow(newimg)\n",
    "plt.colorbar()"
   ]
  },
  {
   "cell_type": "code",
   "execution_count": null,
   "id": "5ed33750",
   "metadata": {},
   "outputs": [],
   "source": []
  },
  {
   "cell_type": "code",
   "execution_count": null,
   "id": "cd6e9a49",
   "metadata": {},
   "outputs": [],
   "source": [
    "nx, ny = image.shape[0], image.shape[1]\n",
    "\n",
    "dn = 1\n",
    "\n",
    "mesh2 = UnitSquareMesh(MPI.comm_world, nx - dn, ny - dn)\n",
    "\n",
    "VDG0=FunctionSpace(mesh2, \"DG\", 0)\n",
    "VDG1=FunctionSpace(mesh2, \"DG\", 1)\n",
    "u0=Function(VDG0)\n",
    "\n",
    "u0 = interpolate(Expression(\"x[0]*x[1]\", degree=3), VDG0)\n",
    "print(assemble(u0*dx))\n",
    "u0 = project(u0, VDG1)\n",
    "print(assemble(u0*dx))\n",
    "\n",
    "u1 = Function(VDG1)"
   ]
  },
  {
   "cell_type": "code",
   "execution_count": null,
   "id": "73575ebe",
   "metadata": {},
   "outputs": [],
   "source": [
    "plt.scatter(mesh2.coordinates()[:,0], mesh2.coordinates()[:,1])\n",
    "\n",
    "xy = u0.function_space().tabulate_dof_coordinates()\n",
    "plt.scatter(xy[:,0], xy[:,1], c=\"r\", s=1)\n",
    "print(np.sum(np.where(np.unique(xy, axis=0)[:, 0]==0, 1, 0)))\n",
    "print(np.sum(np.where(np.unique(xy, axis=0)[:, 1]==0, 1, 0)))\n",
    "                       \n",
    "print(np.unique(xy, axis=0).shape)\n",
    "\n",
    "xy = u1.function_space().tabulate_dof_coordinates()\n",
    "#plt.scatter(xy[:,0], xy[:,1], c=\"yellow\", s=1)\n",
    "print(np.sum(np.where(np.unique(xy, axis=0)[:, 0]==0, 1, 0)))\n",
    "print(np.sum(np.where(np.unique(xy, axis=0)[:, 1]==0, 1, 0)))\n",
    "                       \n",
    "print(np.unique(xy, axis=0).shape)\n",
    "\n",
    "for x in range(nx):\n",
    "    for y in range(ny):\n",
    "        plt.scatter(x/nx, y/ny, s=1, c=\"k\")\n",
    "        \n",
    "#for cell in cells(mesh2):\n",
    "#    plt.scatter(x=cell.midpoint()[:][0],y=cell.midpoint()[:][1], c=\"navy\")"
   ]
  },
  {
   "cell_type": "code",
   "execution_count": null,
   "id": "d09e4d73",
   "metadata": {},
   "outputs": [],
   "source": [
    "do_norm = True"
   ]
  },
  {
   "cell_type": "code",
   "execution_count": null,
   "id": "0d55fc84",
   "metadata": {},
   "outputs": [],
   "source": [
    "if do_norm:\n",
    "    image2 = np.copy(image)\n",
    "    image2 /= np.max(image2)\n",
    "\n",
    "    image2 = np.where(image2 < 0, 0, image2)\n",
    "    \n",
    "else:\n",
    "    image2 = np.copy(image)"
   ]
  },
  {
   "cell_type": "code",
   "execution_count": null,
   "id": "5395c9ce",
   "metadata": {},
   "outputs": [],
   "source": [
    "_, my_img, _ = read_image(hyperparameters, name=\"image\", \n",
    "                                      mesh=None, printout=True, normalize=do_norm)\n",
    "_, my_img1, _ = read_image(hyperparameters, name=\"image\", degree=1,\n",
    "                                      mesh=None, printout=True, normalize=do_norm)\n",
    "\n",
    "_, fen_img0, _ = Pic2FEM(FName=hyperparameters[\"image\"], \n",
    "                                         color=True, normalize=do_norm,\n",
    "                                         mesh=None)#hyperparameters[\"state_functiondegree\"])\n",
    "\n",
    "_, fen_img1, _ = Pic2FEM(FName=hyperparameters[\"image\"], \n",
    "                                         color=False, normalize=do_norm,\n",
    "                                         mesh=None)#hyperparameters[\"state_functiondegree\"])"
   ]
  },
  {
   "cell_type": "code",
   "execution_count": null,
   "id": "56a54c8b",
   "metadata": {},
   "outputs": [],
   "source": [
    "print(np.mean(image2))\n",
    "\n",
    "print(assemble(fen_img1*dx(domain=fenmesh)) / assemble(1*dx(domain=fenmesh)))\n",
    "print(assemble(fen_img0*dx(domain=fenmesh)) / assemble(1*dx(domain=fenmesh)))\n",
    "print(assemble(my_img*dx(domain=mymesh)) / assemble(1*dx(domain=mymesh)))\n",
    "print(assemble(my_img1*dx(domain=mymesh1)) / assemble(1*dx(domain=mymesh1)))"
   ]
  },
  {
   "cell_type": "code",
   "execution_count": null,
   "id": "b5269f55",
   "metadata": {},
   "outputs": [],
   "source": [
    "ax = plot(my_img)\n",
    "plt.colorbar(ax)\n",
    "plt.show()\n",
    "ax = plot(my_img1)\n",
    "plt.colorbar(ax)\n",
    "plt.show()\n",
    "ax = plot(fen_img0)\n",
    "plt.colorbar(ax)\n",
    "plt.show()\n",
    "ax = plot(fen_img1)\n",
    "plt.colorbar(ax)\n",
    "plt.show()"
   ]
  },
  {
   "cell_type": "code",
   "execution_count": null,
   "id": "36a4206e",
   "metadata": {
    "scrolled": false
   },
   "outputs": [],
   "source": [
    "fig, ax1 = plt.subplots(1)\n",
    "fig2, ax2 = plt.subplots(1)\n",
    "fig3, ax3 = plt.subplots(1)\n",
    "fig4, ax4 = plt.subplots(1)\n",
    "fig5, ax5 = plt.subplots(1)\n",
    "\n",
    "for x in range(nx):\n",
    "    for y in range(ny):\n",
    "        ax1.set_title(\"image[x,y]\")\n",
    "        ax1.scatter(y,x, c=image[x,y], \n",
    "                    cmap=\"viridis\", vmin=0, vmax=1,\n",
    "                    s=240, marker=\"s\")\n",
    "        \n",
    "        ax2.set_title(\"my_img(x/nx,y/ny)\")\n",
    "        ax2.scatter(y,x, c=my_img(x/nx,y/ny), \n",
    "                    cmap=\"viridis\", vmin=0, vmax=1,\n",
    "                    s=240, marker=\"s\")\n",
    "        \n",
    "        ax3.set_title(\"my_img1(x/nx,y/ny)\")\n",
    "        ax3.scatter(y,x, c=my_img1(x/nx,y/ny), \n",
    "                    cmap=\"viridis\", vmin=0, vmax=1,\n",
    "                    s=240, marker=\"s\")\n",
    "        ax4.set_title(\"fen_img0(y, x)\")\n",
    "        ax4.scatter(y,x, c=fen_img0(y,x), \n",
    "                    cmap=\"viridis\", vmin=0, vmax=1,\n",
    "                    s=240, marker=\"s\")\n",
    "        ax5.set_title(\"fen_img1(y, x)\")\n",
    "        ax5.scatter(y,x, c=fen_img1(y,x), \n",
    "                    cmap=\"viridis\", vmin=0, vmax=1,\n",
    "                    s=240, marker=\"s\")\n",
    "        \n",
    "for ax in [ax1, ax2, ax3, ax4, ax5]:\n",
    "    # ax = plt.gca()\n",
    "    ax.invert_yaxis()\n",
    "    ax.set_aspect(1)\n",
    "#plt.colorbar()\n",
    "plt.show()\n",
    "\n",
    "plt.title(\"imshow image\")\n",
    "plt.imshow(image2, vmin=0, vmax=1)\n",
    "#plt.colorbar()\n",
    "plt.show()"
   ]
  },
  {
   "cell_type": "code",
   "execution_count": null,
   "id": "e3c8d0fd",
   "metadata": {},
   "outputs": [],
   "source": []
  },
  {
   "cell_type": "code",
   "execution_count": null,
   "id": "6139ab7e",
   "metadata": {},
   "outputs": [],
   "source": []
  },
  {
   "cell_type": "code",
   "execution_count": null,
   "id": "33a95a36",
   "metadata": {},
   "outputs": [],
   "source": []
  },
  {
   "cell_type": "code",
   "execution_count": null,
   "id": "a0e1c857",
   "metadata": {},
   "outputs": [],
   "source": []
  }
 ],
 "metadata": {
  "kernelspec": {
   "display_name": "Python 3 (ipykernel)",
   "language": "python",
   "name": "python3"
  },
  "language_info": {
   "codemirror_mode": {
    "name": "ipython",
    "version": 3
   },
   "file_extension": ".py",
   "mimetype": "text/x-python",
   "name": "python",
   "nbconvert_exporter": "python",
   "pygments_lexer": "ipython3",
   "version": "3.9.10"
  }
 },
 "nbformat": 4,
 "nbformat_minor": 5
}
